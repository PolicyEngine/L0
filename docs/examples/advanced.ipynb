{
 "cells": [
  {
   "cell_type": "code",
   "execution_count": 1,
   "id": "361598ee",
   "metadata": {
    "execution": {
     "iopub.execute_input": "2025-08-10T19:18:57.849995Z",
     "iopub.status.busy": "2025-08-10T19:18:57.849757Z",
     "iopub.status.idle": "2025-08-10T19:18:58.451901Z",
     "shell.execute_reply": "2025-08-10T19:18:58.451647Z"
    }
   },
   "outputs": [
    {
     "name": "stdout",
     "output_type": "stream",
     "text": [
      "Using device: cpu\n"
     ]
    }
   ],
   "source": [
    "import numpy as np\n",
    "import torch\n",
    "\n",
    "# Import L0 modules\n",
    "\n",
    "# Set random seed for reproducibility\n",
    "torch.manual_seed(42)\n",
    "np.random.seed(42)\n",
    "\n",
    "# Set device\n",
    "device = torch.device('cuda' if torch.cuda.is_available() else 'cpu')\n",
    "print(f'Using device: {device}')"
   ]
  },
  {
   "cell_type": "code",
   "execution_count": null,
   "id": "3059bd38",
   "metadata": {
    "execution": {
     "iopub.execute_input": "2025-08-10T19:18:58.461535Z",
     "iopub.status.busy": "2025-08-10T19:18:58.461477Z",
     "iopub.status.idle": "2025-08-10T19:18:58.557643Z",
     "shell.execute_reply": "2025-08-10T19:18:58.557435Z"
    }
   },
   "outputs": [],
   "source": [
    "import numpy as np\n",
    "import torch\n",
    "\n",
    "# Import L0 modules\n",
    "\n",
    "# Set random seed for reproducibility\n",
    "torch.manual_seed(42)\n",
    "np.random.seed(42)\n",
    "\n",
    "# Set device\n",
    "device = torch.device(\"cuda\" if torch.cuda.is_available() else \"cpu\")\n",
    "print(f\"Using device: {device}\")"
   ]
  },
  {
   "cell_type": "markdown",
   "id": "oashsjhf4ws",
   "metadata": {},
   "source": "# Visualize structured vs unstructured sparsity patterns\ndef visualize_conv_sparsity(model, layer_name='conv2'):\n    \"\"\"Visualize sparsity pattern in a conv layer.\"\"\"\n    for name, module in model.named_modules():\n        if name == layer_name and isinstance(module, L0Conv2d):\n            if hasattr(module, 'channel_gates'):\n                # Structured sparsity - show channel-wise gates\n                gates = module.channel_gates.get_gates().detach().cpu().numpy()\n                plt.bar(range(len(gates)), gates)\n                plt.xlabel('Channel Index')\n                plt.ylabel('Gate Value')\n                plt.title(f'{layer_name} Channel Gates (Structured)')\n            else:\n                # Unstructured sparsity - show weight-level sparsity as heatmap\n                gates = module.weight_gates.get_gates().detach().cpu()\n                # Reshape to show per-channel sparsity\n                n_out = module.out_channels\n                n_in = module.in_channels\n                kernel_size = module.kernel_size[0] * module.kernel_size[1]\n                gates_reshaped = gates.view(n_out, n_in * kernel_size)\n                \n                # Show average sparsity per output channel\n                channel_sparsity = (gates_reshaped > 0.5).float().mean(dim=1).numpy()\n                plt.bar(range(n_out), channel_sparsity)\n                plt.xlabel('Output Channel Index')\n                plt.ylabel('Fraction Active')\n                plt.title(f'{layer_name} Weight Sparsity (Unstructured)')\n            plt.show()\n            break\n\n# Create example CNNs with structured and unstructured L0\nclass StructuredCNN(nn.Module):\n    def __init__(self):\n        super().__init__()\n        self.conv1 = L0Conv2d(3, 32, 3, structured=True, init_sparsity=0.3)\n        self.conv2 = L0Conv2d(32, 64, 3, structured=True, init_sparsity=0.5)\n        self.fc = L0Linear(64 * 6 * 6, 10, init_sparsity=0.7)\n    \n    def forward(self, x):\n        x = F.relu(F.max_pool2d(self.conv1(x), 2))\n        x = F.relu(F.max_pool2d(self.conv2(x), 2))\n        x = x.view(x.size(0), -1)\n        return self.fc(x)\n\nclass UnstructuredCNN(nn.Module):\n    def __init__(self):\n        super().__init__()\n        self.conv1 = L0Conv2d(3, 32, 3, structured=False, init_sparsity=0.3)\n        self.conv2 = L0Conv2d(32, 64, 3, structured=False, init_sparsity=0.5)\n        self.fc = L0Linear(64 * 6 * 6, 10, init_sparsity=0.7)\n    \n    def forward(self, x):\n        x = F.relu(F.max_pool2d(self.conv1(x), 2))\n        x = F.relu(F.max_pool2d(self.conv2(x), 2))\n        x = x.view(x.size(0), -1)\n        return self.fc(x)\n\n# Create models\nstructured_cnn = StructuredCNN().to(device)\nunstructured_cnn = UnstructuredCNN().to(device)\n\nprint(\"Structured Sparsity Pattern:\")\nvisualize_conv_sparsity(structured_cnn, 'conv2')\n\nprint(\"\\nUnstructured Sparsity Pattern:\")\nvisualize_conv_sparsity(unstructured_cnn, 'conv2')"
  }
 ],
 "metadata": {
  "language_info": {
   "codemirror_mode": {
    "name": "ipython",
    "version": 3
   },
   "file_extension": ".py",
   "mimetype": "text/x-python",
   "name": "python",
   "nbconvert_exporter": "python",
   "pygments_lexer": "ipython3",
   "version": "3.13.3"
  }
 },
 "nbformat": 4,
 "nbformat_minor": 5
}